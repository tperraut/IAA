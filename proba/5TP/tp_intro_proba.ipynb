{
 "cells": [
  {
   "cell_type": "markdown",
   "metadata": {},
   "source": [
    "# Exercice à faire (sur papier)\n",
    "\n",
    "Pour les deux premiers exercices, vous aurez besoin d'utiliser la règle de Bayes. Il découle de l'égalité suivante: \n",
    "$$ P(X=x,Y=y) = P(X=x)P(Y=y|X=x) = P(Y=y)P(X=x|Y=y).$$\n",
    "De cette égalité, il est possible de déduire la règle de Bayes:\n",
    "$$ P(Y=y|X=x) = \\frac{P(Y=y)P(X=x|Y=y)}{P(X=x)}.$$\n",
    "De plus souvenons-nous que:\n",
    "$$ P(X=x) = \\sum_{y\\in\\omega_Y} P(X=x,Y=y) = \\sum_{y\\in\\omega_Y} P(X=x|Y=y)P(Y=y).$$\n",
    "\n",
    "\n",
    "\n",
    "## Critique de film\n",
    "\n",
    "Pour aller voir un film, dois-je me baser sur l'avis de mon critique préféré (ou ami facebook)\n",
    "* Notons Y mon avis et X l'avis du critique sous forme de VA, par exemple Y=1 si mon avis est positif, et Y=0 sinon).\n",
    "* Ce critique est fiable à 95% :\n",
    "    * fait 1 : 95% des films que j'ai aimé sont recommandés par le\n",
    "        critique et \n",
    "    * fait 2 : 95% des films que je n'ai pas aimés sont déconseillés par le critique     \n",
    "* fait 3: J'aime seulement 1% des films qui sortent\n",
    "\n",
    "\n",
    "La critique de mon ami arrive, elle est positive **Quel est la probabilité que j'aime ce film ?**\n",
    "\n",
    "Pour répondre à cette question, les étapes suivantes sont proposées : \n",
    "* Définir les espaces de réalisation de $X$ et $Y$. \n",
    "* Quelle probabilité cherche-t-on ? \n",
    "* Comment traduire le fait 1 en terme de probabilité conditionnelle ? \n",
    "* Comment traduire le fait 2 en terme de probabilité conditionnelle ? \n",
    "* Comment traduire le fait 3 en terme de probabilité  ? \n",
    "* Finir le calcul. \n",
    "\n",
    "\n",
    "\n",
    "\n",
    "## Les cookies \n",
    "Supposons 2 bols de cookies:\n",
    "* le bol 1 contient 30 cookies à la vanille et 10 au chocolat\n",
    "* le bol 2 en contient 20 de chaque\n",
    "\n",
    "\n",
    "Supposons que l’on choisisse un bol au hasard et à l’aveugle, et qu’on y pioche un cookie. Il est à la vanille. **Quelle est la probabilité qu’il vienne du bol 1 ?**\n"
   ]
  },
  {
   "cell_type": "markdown",
   "metadata": {
    "collapsed": true
   },
   "source": [
    "# Données MNIST \n",
    "\n",
    "Le but de ce TP est de se familiariser avec les données MNIST (voir [cette page](https://perso.limsi.fr/Individu/allauzen/webpages/pmwiki.php?n=Cours.Main#toc6)). Elles sont également accessible en lecture et en local: \n",
    "\n",
    "    /partage/public/allauzen\n",
    "    \n",
    "Ce corpus rassemble des images (observations) de chiffres isolés et manuscrits ainsi que les classes associées (les labels ou les réponses attendues). Il s'agit donc d'un problème de classification à 10 classes (de 0 à 9). L'objectif est d'assigner le bon chiffre à une image.\n",
    "## Chargement des données"
   ]
  },
  {
   "cell_type": "code",
   "execution_count": null,
   "metadata": {
    "collapsed": false
   },
   "outputs": [],
   "source": [
    "import cPickle, gzip, numpy\n",
    "# Load the dataset\n",
    "f = gzip.open('/Users/allauzen/data/mnist/mnist.pkl.gz', 'rb')\n",
    "train_set, valid_set, test_set = cPickle.load(f)\n",
    "\n",
    "print str(len(train_set[0]))+\" training examples\"\n",
    "f.close()\n",
    "# exemple: \n",
    "im = train_set[0][0] # the first image\n",
    "label = train_set[1][0] # its label\n",
    "\n",
    "%matplotlib inline\n",
    "%config InlineBackend.figure_formats=['svg']\n",
    "%config InlineBackend.figure_format = 'svg'\n",
    "import matplotlib\n",
    "# Visualisation d'une image: \n",
    "im = train_set[0][0]\n",
    "matplotlib.pyplot.show()\n",
    "matplotlib.pyplot.imshow(im.reshape(28,28) , matplotlib.pyplot.cm.gray)"
   ]
  },
  {
   "cell_type": "markdown",
   "metadata": {},
   "source": [
    "## Manipulation des données\n",
    "Voici quelques exemples de manipulation. "
   ]
  },
  {
   "cell_type": "code",
   "execution_count": null,
   "metadata": {
    "collapsed": false
   },
   "outputs": [],
   "source": [
    "# Récupération des images et des labels\n",
    "images = train_set[0]\n",
    "labels = train_set[1]\n",
    "print \"shape d'images  :\"+str(images.shape)\n",
    "print \"shape de labels :\"+str(labels.shape)\n",
    "# Combien y-a-t-il d'images de 5 \n",
    "print \"Nombre d'images dont le label est 5 :\"+str((labels==5).sum())\n",
    "# labels==5 retourne un ndarray de même dimension que labels mais remplit de boolean.\n",
    "# True, si le label de la case est 5 et False sinon. \n",
    "# On peut se servir de cet ndarray pour faire du slicing de images\n",
    "fives=images[labels==5]\n",
    "print \"fives contient toutes les images dont le label est 5, il y en a :\"+str(fives.shape)"
   ]
  },
  {
   "cell_type": "markdown",
   "metadata": {},
   "source": [
    "## Statistique et visualisation\n",
    "Une image est un ensemble de pixel. Chaque pixel est considéré comme la réalisation d'une variable aléatoire réelle. Prenons les données d'apprentissage.\n",
    "\n",
    "Chaque pixel est une VA continue. Il est alors possible de représenter la distribution sur l'ensemble des pixels d'une image via des Gaussienne. Une image est alors un ensemble de VAs (une VA par pixel). \n",
    "\n",
    "* Pour chaque classe, calculer l'image moyenne. \n",
    "* Si nous considérons que chaque pixel est indépendant des autres, quelle forme prend la matrice de covariance et comment peut-on la représenter (quelle structure de données) ? \n",
    "* Calculer la variance de chaque pixel pour chaque classe. \n",
    "* Visualiser pour chaque classe : le vecteur moyen puis dans un second temps la variance des pixels. "
   ]
  },
  {
   "cell_type": "code",
   "execution_count": null,
   "metadata": {
    "collapsed": true
   },
   "outputs": [],
   "source": [
    ""
   ]
  }
 ],
 "metadata": {
  "anaconda-cloud": {},
  "kernelspec": {
   "display_name": "Python [Root]",
   "language": "python",
   "name": "Python [Root]"
  },
  "language_info": {
   "codemirror_mode": {
    "name": "ipython",
    "version": 2.0
   },
   "file_extension": ".py",
   "mimetype": "text/x-python",
   "name": "python",
   "nbconvert_exporter": "python",
   "pygments_lexer": "ipython2",
   "version": "2.7.11"
  }
 },
 "nbformat": 4,
 "nbformat_minor": 0
}